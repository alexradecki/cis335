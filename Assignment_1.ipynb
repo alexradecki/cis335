{
  "nbformat": 4,
  "nbformat_minor": 0,
  "metadata": {
    "colab": {
      "provenance": [],
      "toc_visible": true,
      "include_colab_link": true
    },
    "kernelspec": {
      "name": "python3",
      "display_name": "Python 3"
    },
    "language_info": {
      "name": "python"
    }
  },
  "cells": [
    {
      "cell_type": "markdown",
      "metadata": {
        "id": "view-in-github",
        "colab_type": "text"
      },
      "source": [
        "<a href=\"https://colab.research.google.com/github/alexradecki/cis335/blob/main/Assignment_1.ipynb\" target=\"_parent\"><img src=\"https://colab.research.google.com/assets/colab-badge.svg\" alt=\"Open In Colab\"/></a>"
      ]
    },
    {
      "cell_type": "markdown",
      "source": [
        "# Assignment 1"
      ],
      "metadata": {
        "id": "3G8j_3eYqL46"
      }
    },
    {
      "cell_type": "markdown",
      "source": [
        "Alex Radecki CIS 335 Assignment 1"
      ],
      "metadata": {
        "id": "9gfT295H-_Wb"
      }
    },
    {
      "cell_type": "code",
      "source": [
        "from google.colab import files\n",
        "files.upload()\n",
        "\n",
        "import pandas as pd\n",
        "df=pd.read_csv(\"cancer_dataset.csv\")"
      ],
      "metadata": {
        "colab": {
          "base_uri": "https://localhost:8080/",
          "height": 73
        },
        "id": "l6G6HovUzBbF",
        "outputId": "bfb01916-6a41-485f-eef7-af83e43f3712"
      },
      "execution_count": 8,
      "outputs": [
        {
          "output_type": "display_data",
          "data": {
            "text/plain": [
              "<IPython.core.display.HTML object>"
            ],
            "text/html": [
              "\n",
              "     <input type=\"file\" id=\"files-f412c696-ea0b-433a-872c-67ceef2d2632\" name=\"files[]\" multiple disabled\n",
              "        style=\"border:none\" />\n",
              "     <output id=\"result-f412c696-ea0b-433a-872c-67ceef2d2632\">\n",
              "      Upload widget is only available when the cell has been executed in the\n",
              "      current browser session. Please rerun this cell to enable.\n",
              "      </output>\n",
              "      <script>// Copyright 2017 Google LLC\n",
              "//\n",
              "// Licensed under the Apache License, Version 2.0 (the \"License\");\n",
              "// you may not use this file except in compliance with the License.\n",
              "// You may obtain a copy of the License at\n",
              "//\n",
              "//      http://www.apache.org/licenses/LICENSE-2.0\n",
              "//\n",
              "// Unless required by applicable law or agreed to in writing, software\n",
              "// distributed under the License is distributed on an \"AS IS\" BASIS,\n",
              "// WITHOUT WARRANTIES OR CONDITIONS OF ANY KIND, either express or implied.\n",
              "// See the License for the specific language governing permissions and\n",
              "// limitations under the License.\n",
              "\n",
              "/**\n",
              " * @fileoverview Helpers for google.colab Python module.\n",
              " */\n",
              "(function(scope) {\n",
              "function span(text, styleAttributes = {}) {\n",
              "  const element = document.createElement('span');\n",
              "  element.textContent = text;\n",
              "  for (const key of Object.keys(styleAttributes)) {\n",
              "    element.style[key] = styleAttributes[key];\n",
              "  }\n",
              "  return element;\n",
              "}\n",
              "\n",
              "// Max number of bytes which will be uploaded at a time.\n",
              "const MAX_PAYLOAD_SIZE = 100 * 1024;\n",
              "\n",
              "function _uploadFiles(inputId, outputId) {\n",
              "  const steps = uploadFilesStep(inputId, outputId);\n",
              "  const outputElement = document.getElementById(outputId);\n",
              "  // Cache steps on the outputElement to make it available for the next call\n",
              "  // to uploadFilesContinue from Python.\n",
              "  outputElement.steps = steps;\n",
              "\n",
              "  return _uploadFilesContinue(outputId);\n",
              "}\n",
              "\n",
              "// This is roughly an async generator (not supported in the browser yet),\n",
              "// where there are multiple asynchronous steps and the Python side is going\n",
              "// to poll for completion of each step.\n",
              "// This uses a Promise to block the python side on completion of each step,\n",
              "// then passes the result of the previous step as the input to the next step.\n",
              "function _uploadFilesContinue(outputId) {\n",
              "  const outputElement = document.getElementById(outputId);\n",
              "  const steps = outputElement.steps;\n",
              "\n",
              "  const next = steps.next(outputElement.lastPromiseValue);\n",
              "  return Promise.resolve(next.value.promise).then((value) => {\n",
              "    // Cache the last promise value to make it available to the next\n",
              "    // step of the generator.\n",
              "    outputElement.lastPromiseValue = value;\n",
              "    return next.value.response;\n",
              "  });\n",
              "}\n",
              "\n",
              "/**\n",
              " * Generator function which is called between each async step of the upload\n",
              " * process.\n",
              " * @param {string} inputId Element ID of the input file picker element.\n",
              " * @param {string} outputId Element ID of the output display.\n",
              " * @return {!Iterable<!Object>} Iterable of next steps.\n",
              " */\n",
              "function* uploadFilesStep(inputId, outputId) {\n",
              "  const inputElement = document.getElementById(inputId);\n",
              "  inputElement.disabled = false;\n",
              "\n",
              "  const outputElement = document.getElementById(outputId);\n",
              "  outputElement.innerHTML = '';\n",
              "\n",
              "  const pickedPromise = new Promise((resolve) => {\n",
              "    inputElement.addEventListener('change', (e) => {\n",
              "      resolve(e.target.files);\n",
              "    });\n",
              "  });\n",
              "\n",
              "  const cancel = document.createElement('button');\n",
              "  inputElement.parentElement.appendChild(cancel);\n",
              "  cancel.textContent = 'Cancel upload';\n",
              "  const cancelPromise = new Promise((resolve) => {\n",
              "    cancel.onclick = () => {\n",
              "      resolve(null);\n",
              "    };\n",
              "  });\n",
              "\n",
              "  // Wait for the user to pick the files.\n",
              "  const files = yield {\n",
              "    promise: Promise.race([pickedPromise, cancelPromise]),\n",
              "    response: {\n",
              "      action: 'starting',\n",
              "    }\n",
              "  };\n",
              "\n",
              "  cancel.remove();\n",
              "\n",
              "  // Disable the input element since further picks are not allowed.\n",
              "  inputElement.disabled = true;\n",
              "\n",
              "  if (!files) {\n",
              "    return {\n",
              "      response: {\n",
              "        action: 'complete',\n",
              "      }\n",
              "    };\n",
              "  }\n",
              "\n",
              "  for (const file of files) {\n",
              "    const li = document.createElement('li');\n",
              "    li.append(span(file.name, {fontWeight: 'bold'}));\n",
              "    li.append(span(\n",
              "        `(${file.type || 'n/a'}) - ${file.size} bytes, ` +\n",
              "        `last modified: ${\n",
              "            file.lastModifiedDate ? file.lastModifiedDate.toLocaleDateString() :\n",
              "                                    'n/a'} - `));\n",
              "    const percent = span('0% done');\n",
              "    li.appendChild(percent);\n",
              "\n",
              "    outputElement.appendChild(li);\n",
              "\n",
              "    const fileDataPromise = new Promise((resolve) => {\n",
              "      const reader = new FileReader();\n",
              "      reader.onload = (e) => {\n",
              "        resolve(e.target.result);\n",
              "      };\n",
              "      reader.readAsArrayBuffer(file);\n",
              "    });\n",
              "    // Wait for the data to be ready.\n",
              "    let fileData = yield {\n",
              "      promise: fileDataPromise,\n",
              "      response: {\n",
              "        action: 'continue',\n",
              "      }\n",
              "    };\n",
              "\n",
              "    // Use a chunked sending to avoid message size limits. See b/62115660.\n",
              "    let position = 0;\n",
              "    do {\n",
              "      const length = Math.min(fileData.byteLength - position, MAX_PAYLOAD_SIZE);\n",
              "      const chunk = new Uint8Array(fileData, position, length);\n",
              "      position += length;\n",
              "\n",
              "      const base64 = btoa(String.fromCharCode.apply(null, chunk));\n",
              "      yield {\n",
              "        response: {\n",
              "          action: 'append',\n",
              "          file: file.name,\n",
              "          data: base64,\n",
              "        },\n",
              "      };\n",
              "\n",
              "      let percentDone = fileData.byteLength === 0 ?\n",
              "          100 :\n",
              "          Math.round((position / fileData.byteLength) * 100);\n",
              "      percent.textContent = `${percentDone}% done`;\n",
              "\n",
              "    } while (position < fileData.byteLength);\n",
              "  }\n",
              "\n",
              "  // All done.\n",
              "  yield {\n",
              "    response: {\n",
              "      action: 'complete',\n",
              "    }\n",
              "  };\n",
              "}\n",
              "\n",
              "scope.google = scope.google || {};\n",
              "scope.google.colab = scope.google.colab || {};\n",
              "scope.google.colab._files = {\n",
              "  _uploadFiles,\n",
              "  _uploadFilesContinue,\n",
              "};\n",
              "})(self);\n",
              "</script> "
            ]
          },
          "metadata": {}
        },
        {
          "output_type": "stream",
          "name": "stdout",
          "text": [
            "Saving cancer_dataset.csv to cancer_dataset (4).csv\n"
          ]
        }
      ]
    },
    {
      "cell_type": "markdown",
      "source": [
        "Verify dataset was properly imported"
      ],
      "metadata": {
        "id": "bWFl-AJ38Vnc"
      }
    },
    {
      "cell_type": "code",
      "source": [
        "df.head()"
      ],
      "metadata": {
        "colab": {
          "base_uri": "https://localhost:8080/"
        },
        "id": "0ooYKq1JQ-ak",
        "outputId": "624643b8-c7b2-4acf-d6e1-ae915a78095c"
      },
      "execution_count": null,
      "outputs": [
        {
          "output_type": "stream",
          "name": "stdout",
          "text": [
            "           id diagnosis  radius_mean  texture_mean  perimeter_mean  area_mean  \\\n",
            "0      842302         M        17.99         10.38          122.80     1001.0   \n",
            "1      842517         M        20.57         17.77          132.90     1326.0   \n",
            "2    84300903         M        19.69         21.25          130.00     1203.0   \n",
            "3    84348301         M        11.42         20.38           77.58      386.1   \n",
            "4    84358402         M        20.29         14.34          135.10     1297.0   \n",
            "..        ...       ...          ...           ...             ...        ...   \n",
            "444   9110127         M        18.03         16.85          117.50      990.0   \n",
            "445   9110720         B        11.99         24.89           77.61      441.3   \n",
            "446   9110732         M        17.75         28.03          117.30      981.6   \n",
            "447   9110944         B        14.80         17.66           95.88      674.8   \n",
            "448    911150         B        14.53         19.34           94.25      659.7   \n",
            "\n",
            "     smoothness_mean  compactness_mean  concavity_mean  concave points_mean  \\\n",
            "0            0.11840           0.27760         0.30010              0.14710   \n",
            "1            0.08474           0.07864         0.08690              0.07017   \n",
            "2            0.10960           0.15990         0.19740              0.12790   \n",
            "3            0.14250           0.28390         0.24140              0.10520   \n",
            "4            0.10030           0.13280         0.19800              0.10430   \n",
            "..               ...               ...             ...                  ...   \n",
            "444          0.08947           0.12320         0.10900              0.06254   \n",
            "445          0.10300           0.09218         0.05441              0.04274   \n",
            "446          0.09997           0.13140         0.16980              0.08293   \n",
            "447          0.09179           0.08890         0.04069              0.02260   \n",
            "448          0.08388           0.07800         0.08817              0.02925   \n",
            "\n",
            "     ...  texture_worst  perimeter_worst  area_worst  smoothness_worst  \\\n",
            "0    ...          17.33           184.60      2019.0            0.1622   \n",
            "1    ...          23.41           158.80      1956.0            0.1238   \n",
            "2    ...          25.53           152.50      1709.0            0.1444   \n",
            "3    ...          26.50            98.87       567.7            0.2098   \n",
            "4    ...          16.67           152.20      1575.0            0.1374   \n",
            "..   ...            ...              ...         ...               ...   \n",
            "444  ...          22.02           133.30      1292.0            0.1263   \n",
            "445  ...          30.36            84.48       513.9            0.1311   \n",
            "446  ...          38.54           145.40      1437.0            0.1401   \n",
            "447  ...          22.74           105.90       829.5            0.1226   \n",
            "448  ...          28.39           108.10       830.5            0.1089   \n",
            "\n",
            "     compactness_worst  concavity_worst  concave points_worst  symmetry_worst  \\\n",
            "0               0.6656           0.7119               0.26540          0.4601   \n",
            "1               0.1866           0.2416               0.18600          0.2750   \n",
            "2               0.4245           0.4504               0.24300          0.3613   \n",
            "3               0.8663           0.6869               0.25750          0.6638   \n",
            "4               0.2050           0.4000               0.16250          0.2364   \n",
            "..                 ...              ...                   ...             ...   \n",
            "444             0.2666           0.4290               0.15350          0.2842   \n",
            "445             0.1822           0.1609               0.12020          0.2599   \n",
            "446             0.3762           0.6399               0.19700          0.2972   \n",
            "447             0.1881           0.2060               0.08308          0.3600   \n",
            "448             0.2649           0.3779               0.09594          0.2471   \n",
            "\n",
            "     fractal_dimension_worst  Unnamed: 32  \n",
            "0                    0.11890          NaN  \n",
            "1                    0.08902          NaN  \n",
            "2                    0.08758          NaN  \n",
            "3                    0.17300          NaN  \n",
            "4                    0.07678          NaN  \n",
            "..                       ...          ...  \n",
            "444                  0.08225          NaN  \n",
            "445                  0.08251          NaN  \n",
            "446                  0.09075          NaN  \n",
            "447                  0.07285          NaN  \n",
            "448                  0.07463          NaN  \n",
            "\n",
            "[449 rows x 33 columns]\n"
          ]
        }
      ]
    },
    {
      "cell_type": "markdown",
      "source": [
        "# Statistical Distribution of Attributes"
      ],
      "metadata": {
        "id": "wuI3YhfD_mAs"
      }
    },
    {
      "cell_type": "markdown",
      "source": [
        "Displays summary statistics for radius_mean"
      ],
      "metadata": {
        "id": "EH7eT1Ye9AMm"
      }
    },
    {
      "cell_type": "code",
      "source": [
        "df['radius_mean'].describe()"
      ],
      "metadata": {
        "colab": {
          "base_uri": "https://localhost:8080/"
        },
        "id": "I5IcK60wRt1j",
        "outputId": "99b5e19e-b15a-4411-8df6-9b917f099353"
      },
      "execution_count": null,
      "outputs": [
        {
          "output_type": "execute_result",
          "data": {
            "text/plain": [
              "count    449.000000\n",
              "mean      14.221321\n",
              "std        3.496146\n",
              "min        6.981000\n",
              "25%       11.760000\n",
              "50%       13.460000\n",
              "75%       16.130000\n",
              "max       28.110000\n",
              "Name: radius_mean, dtype: float64"
            ]
          },
          "metadata": {},
          "execution_count": 32
        }
      ]
    },
    {
      "cell_type": "markdown",
      "source": [
        "Displays summary statistics for texture_mean"
      ],
      "metadata": {
        "id": "QwIKzZAg91KF"
      }
    },
    {
      "cell_type": "code",
      "source": [
        "df['texture_mean'].describe()"
      ],
      "metadata": {
        "colab": {
          "base_uri": "https://localhost:8080/"
        },
        "id": "bvcH2xVM96i_",
        "outputId": "c4890b25-0c95-498d-b5d6-99469cf8607f"
      },
      "execution_count": null,
      "outputs": [
        {
          "output_type": "execute_result",
          "data": {
            "text/plain": [
              "count    449.000000\n",
              "mean      18.961693\n",
              "std        4.066548\n",
              "min        9.710000\n",
              "25%       16.020000\n",
              "50%       18.610000\n",
              "75%       21.540000\n",
              "max       39.280000\n",
              "Name: texture_mean, dtype: float64"
            ]
          },
          "metadata": {},
          "execution_count": 33
        }
      ]
    },
    {
      "cell_type": "markdown",
      "source": [
        "Displays summary statistics for fractal_dimension_worst"
      ],
      "metadata": {
        "id": "vLxnen6M-FVh"
      }
    },
    {
      "cell_type": "code",
      "source": [
        "df['fractal_dimension_worst'].describe()"
      ],
      "metadata": {
        "colab": {
          "base_uri": "https://localhost:8080/"
        },
        "id": "eg_U4tZ--JTo",
        "outputId": "1a4d14cc-8a8a-46c6-9f4d-d3ae504348e6"
      },
      "execution_count": null,
      "outputs": [
        {
          "output_type": "execute_result",
          "data": {
            "text/plain": [
              "count    449.000000\n",
              "mean       0.084095\n",
              "std        0.018484\n",
              "min        0.055040\n",
              "25%        0.071270\n",
              "50%        0.080090\n",
              "75%        0.092180\n",
              "max        0.207500\n",
              "Name: fractal_dimension_worst, dtype: float64"
            ]
          },
          "metadata": {},
          "execution_count": 34
        }
      ]
    },
    {
      "cell_type": "markdown",
      "source": [
        "# Outlier Identification"
      ],
      "metadata": {
        "id": "Vn4wl1z3_t_A"
      }
    },
    {
      "cell_type": "markdown",
      "source": [
        "Creates subset of data with only radius_mean. Defines Q1, Q3, and IQR, and uses those to create a dataframe with only the outliers of radius_mean"
      ],
      "metadata": {
        "id": "T3PCZut28qAF"
      }
    },
    {
      "cell_type": "code",
      "source": [
        "num_col_list=['radius_mean']\n",
        "num_df=df[num_col_list]\n",
        "\n",
        "Q1=num_df['radius_mean'].quantile(0.25)\n",
        "Q3=num_df['radius_mean'].quantile(0.75)\n",
        "IQR=Q3-Q1\n",
        "\n",
        "dfOutliers=num_df.loc[(num_df['radius_mean'] <= Q1 - 1.5*IQR) | (num_df['radius_mean'] >= Q3 + 1.5*IQR)]\n",
        "print(IQR)"
      ],
      "metadata": {
        "colab": {
          "base_uri": "https://localhost:8080/"
        },
        "id": "vL1tjVeURNNd",
        "outputId": "2ecad43b-ec68-47d3-8429-87654d97ef26"
      },
      "execution_count": null,
      "outputs": [
        {
          "output_type": "stream",
          "name": "stdout",
          "text": [
            "4.369999999999999\n"
          ]
        }
      ]
    },
    {
      "cell_type": "markdown",
      "source": [
        "# Correlations"
      ],
      "metadata": {
        "id": "Qb3GeR4M_yMC"
      }
    },
    {
      "cell_type": "markdown",
      "source": [
        "Displays scatterplots showing correlation between:\n",
        "*   radius_mean and texture_mean\n",
        "*   radius_mean and fractal_dimension_worst\n",
        "*   texture_mean and fractal_dimension_worst\n",
        "\n",
        "\n",
        "\n",
        "\n"
      ],
      "metadata": {
        "id": "vMa4dP13-PYu"
      }
    },
    {
      "cell_type": "code",
      "source": [
        "num_df.plot.scatter(\n",
        "    x='radius_mean',\n",
        "    y='texture_mean'\n",
        ");\n",
        "\n",
        "num_df.plot.scatter(\n",
        "    x='radius_mean',\n",
        "    y='fractal_dimension_worst'\n",
        ");\n",
        "\n",
        "num_df.plot.scatter(\n",
        "    x='texture_mean',\n",
        "    y='fractal_dimension_worst'\n",
        ");"
      ],
      "metadata": {
        "colab": {
          "base_uri": "https://localhost:8080/",
          "height": 806
        },
        "id": "cFhZSCt2SeZj",
        "outputId": "136b22fe-1db5-4c0d-e132-94788b1e46c8"
      },
      "execution_count": null,
      "outputs": [
        {
          "output_type": "display_data",
          "data": {
            "text/plain": [
              "<Figure size 432x288 with 1 Axes>"
            ],
            "image/png": "[encoded data removed]"
          },
          "metadata": {
            "needs_background": "light"
          }
        },
        {
          "output_type": "display_data",
          "data": {
            "text/plain": [
              "<Figure size 432x288 with 1 Axes>"
            ],
            "image/png": "[encoded data removed]"
          },
          "metadata": {
            "needs_background": "light"
          }
        },
        {
          "output_type": "display_data",
          "data": {
            "text/plain": [
              "<Figure size 432x288 with 1 Axes>"
            ],
            "image/png": "[encoded data removed]"
          },
          "metadata": {
            "needs_background": "light"
          }
        }
      ]
    },
    {
      "cell_type": "markdown",
      "source": [
        "# Boxplots"
      ],
      "metadata": {
        "id": "kKzbWVBH_13i"
      }
    },
    {
      "cell_type": "markdown",
      "source": [
        "Boxplot for radius_mean (Making separate boxplots for each due to differences in scale)"
      ],
      "metadata": {
        "id": "BgyNKAckJusO"
      }
    },
    {
      "cell_type": "code",
      "source": [
        "df.boxplot(column=['radius_mean']);"
      ],
      "metadata": {
        "colab": {
          "base_uri": "https://localhost:8080/",
          "height": 266
        },
        "id": "2xi4bY3NS2Ir",
        "outputId": "9d72c5be-f55b-432f-b2ce-a5763b52d760"
      },
      "execution_count": null,
      "outputs": [
        {
          "output_type": "display_data",
          "data": {
            "text/plain": [
              "<Figure size 432x288 with 1 Axes>"
            ],
            "image/png": "[encoded data removed]"
          },
          "metadata": {
            "needs_background": "light"
          }
        }
      ]
    },
    {
      "cell_type": "markdown",
      "source": [
        "Boxplot for texture_mean"
      ],
      "metadata": {
        "id": "KKbSTgmI_VzO"
      }
    },
    {
      "cell_type": "code",
      "source": [
        "df.boxplot(column=['texture_mean']);"
      ],
      "metadata": {
        "colab": {
          "base_uri": "https://localhost:8080/",
          "height": 266
        },
        "id": "gM7YwY_4_Xrc",
        "outputId": "a8215d28-21aa-4944-ae36-7ba13f40363b"
      },
      "execution_count": null,
      "outputs": [
        {
          "output_type": "display_data",
          "data": {
            "text/plain": [
              "<Figure size 432x288 with 1 Axes>"
            ],
            "image/png": "[encoded data removed]"
          },
          "metadata": {
            "needs_background": "light"
          }
        }
      ]
    },
    {
      "cell_type": "markdown",
      "source": [
        "Boxplot for fractal_dimension_worst"
      ],
      "metadata": {
        "id": "LIJuGkpk_Zsu"
      }
    },
    {
      "cell_type": "code",
      "source": [
        "df.boxplot(column=['fractal_dimension_worst']);"
      ],
      "metadata": {
        "colab": {
          "base_uri": "https://localhost:8080/",
          "height": 266
        },
        "id": "_pr5a43e_cBd",
        "outputId": "bd0bf652-9097-42f5-cf94-2cb7f6618243"
      },
      "execution_count": null,
      "outputs": [
        {
          "output_type": "display_data",
          "data": {
            "text/plain": [
              "<Figure size 432x288 with 1 Axes>"
            ],
            "image/png": "[encoded data removed]"
          },
          "metadata": {
            "needs_background": "light"
          }
        }
      ]
    }
  ]
}